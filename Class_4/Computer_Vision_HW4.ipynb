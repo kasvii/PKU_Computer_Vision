{
 "cells": [
  {
   "cell_type": "code",
   "execution_count": 2,
   "metadata": {},
   "outputs": [
    {
     "data": {
      "text/plain": [
       "(tensor([[-1.1258, -1.1524, -0.2506, -0.4339],\n",
       "         [ 0.8487,  0.6920, -0.3160, -2.1152],\n",
       "         [ 0.3223, -1.2633,  0.3500,  0.3081],\n",
       "         [ 0.1198,  1.2377,  1.1168, -0.2473],\n",
       "         [-1.3527, -1.6959,  0.5667,  0.7935],\n",
       "         [ 0.5988, -1.5551, -0.3414,  1.8530],\n",
       "         [-0.2159, -0.7425,  0.5627,  0.2596],\n",
       "         [-0.1740, -0.6787,  0.9383,  0.4889],\n",
       "         [ 1.2032,  0.0845, -1.2001, -0.0048],\n",
       "         [-0.5181, -0.3067, -1.5810,  1.7066]], requires_grad=True),\n",
       " tensor([[ 0.2055, -0.4503, -0.5731, -0.5554],\n",
       "         [ 0.5943,  1.5419,  0.5073, -0.5910],\n",
       "         [-1.3253,  0.1886, -0.0691, -0.4949],\n",
       "         [-1.4959, -0.1938,  0.4455,  1.3253]], requires_grad=True),\n",
       " tensor([[ 1.5091,  2.0820,  1.7067,  2.3804],\n",
       "         [-1.1256, -0.3170, -1.0925, -0.0852],\n",
       "         [ 0.3276, -0.7607, -1.5991,  0.0185],\n",
       "         [-0.7504,  0.1854,  0.6211,  0.6382],\n",
       "         [-0.0033, -0.5344,  1.1687,  0.3945],\n",
       "         [ 1.9415,  0.7915, -0.0203, -0.4372],\n",
       "         [-0.2188, -2.4351, -0.0729, -0.0340],\n",
       "         [ 0.9625,  0.3492, -0.9215, -0.0562],\n",
       "         [-0.6227, -0.4637,  1.9218, -0.4025],\n",
       "         [ 0.1239,  1.1648,  0.9234,  1.3873]], requires_grad=True))"
      ]
     },
     "execution_count": 2,
     "metadata": {},
     "output_type": "execute_result"
    }
   ],
   "source": [
    "import torch\n",
    "torch.manual_seed(0)\n",
    "\n",
    "X = torch.randn(10, 4, requires_grad = True)\n",
    "W = torch.randn(4, 4, requires_grad = True)\n",
    "Y = torch.randn(10, 4, requires_grad = True)\n",
    "\n",
    "X, W, Y"
   ]
  },
  {
   "cell_type": "code",
   "execution_count": 12,
   "metadata": {},
   "outputs": [
    {
     "data": {
      "text/plain": [
       "(tensor([[ 22.4769,  10.3214,   0.5826,  -5.9407],\n",
       "         [ 50.8333,  35.6112,   3.9501, -30.7748],\n",
       "         [-14.4824,  11.2645,   7.2040,  -7.0126],\n",
       "         [-53.4309, -28.8103,   0.7109,  42.7320]]),\n",
       " tensor([[  6.1743, -11.9859,   4.3394,  -0.0597],\n",
       "         [  4.7394,  14.5691, -10.1215, -25.4544],\n",
       "         [ -1.4891,  -6.4197,   3.7353,   9.1782],\n",
       "         [  1.2874,   8.9058,   1.9930,  -8.3078],\n",
       "         [ -1.2455, -11.9822,   5.9854,  15.0334],\n",
       "         [ -2.3351, -22.5698,   8.3787,  26.0864],\n",
       "         [ -2.4884,   1.9020,   3.6204,   5.2850],\n",
       "         [ -2.0456,  -7.8526,   7.6394,  13.2748],\n",
       "         [  3.7401,  -0.3867,  -6.6651,  -8.9618],\n",
       "         [ -0.9880,  -9.7293,  -0.5763,   9.1050]]),\n",
       " tensor([[  2.8885,   6.6300,   3.6443,   3.0501],\n",
       "         [-10.5886,  -2.7045,  -0.0733,   6.8840],\n",
       "         [  3.8740,   2.6523,  -1.7731,  -1.5687],\n",
       "         [ -0.8009,  -3.8551,   0.4984,   4.6333],\n",
       "         [  6.4413,   3.0368,   1.8791,  -4.2604],\n",
       "         [ 10.1243,   7.7652,   0.5255,  -7.2968],\n",
       "         [  2.8020,  -2.8862,   0.2066,  -1.3166],\n",
       "         [  6.7530,   2.4705,  -1.6596,  -1.4750],\n",
       "         [ -5.0359,   0.3463,   4.9753,  -0.5440],\n",
       "         [  1.7406,   4.0666,  -0.1749,  -4.2519]]))"
      ]
     },
     "execution_count": 12,
     "metadata": {},
     "output_type": "execute_result"
    }
   ],
   "source": [
    "M0 = torch.zeros(10, 4)\n",
    "f = torch.norm(torch.mm(X, W) - Y) ** 2\n",
    "f.backward()\n",
    "W.grad, X.grad, Y.grad"
   ]
  },
  {
   "cell_type": "code",
   "execution_count": 13,
   "metadata": {},
   "outputs": [
    {
     "data": {
      "text/plain": [
       "tensor([[True, True, True, True],\n",
       "        [True, True, True, True],\n",
       "        [True, True, True, True],\n",
       "        [True, True, True, True]])"
      ]
     },
     "execution_count": 13,
     "metadata": {},
     "output_type": "execute_result"
    }
   ],
   "source": [
    "W.grad == 2 * torch.mm(X.t(), (torch.mm(X, W) - Y))"
   ]
  },
  {
   "cell_type": "code",
   "execution_count": 14,
   "metadata": {},
   "outputs": [
    {
     "data": {
      "text/plain": [
       "tensor([[True, True, True, True],\n",
       "        [True, True, True, True],\n",
       "        [True, True, True, True],\n",
       "        [True, True, True, True],\n",
       "        [True, True, True, True],\n",
       "        [True, True, True, True],\n",
       "        [True, True, True, True],\n",
       "        [True, True, True, True],\n",
       "        [True, True, True, True],\n",
       "        [True, True, True, True]])"
      ]
     },
     "execution_count": 14,
     "metadata": {},
     "output_type": "execute_result"
    }
   ],
   "source": [
    "X.grad == 2 * torch.mm((torch.mm(X, W) - Y), W.t())"
   ]
  },
  {
   "cell_type": "code",
   "execution_count": 15,
   "metadata": {},
   "outputs": [
    {
     "data": {
      "text/plain": [
       "tensor([[True, True, True, True],\n",
       "        [True, True, True, True],\n",
       "        [True, True, True, True],\n",
       "        [True, True, True, True],\n",
       "        [True, True, True, True],\n",
       "        [True, True, True, True],\n",
       "        [True, True, True, True],\n",
       "        [True, True, True, True],\n",
       "        [True, True, True, True],\n",
       "        [True, True, True, True]])"
      ]
     },
     "execution_count": 15,
     "metadata": {},
     "output_type": "execute_result"
    }
   ],
   "source": [
    "Y.grad == 2 * (Y - torch.mm(X, W))"
   ]
  }
 ],
 "metadata": {
  "interpreter": {
   "hash": "999dd3e2eabe8048c4faeff57ad9880f4590b8bc759d083b68e50e5335ac2244"
  },
  "kernelspec": {
   "display_name": "Python 3.7.11 64-bit ('test': conda)",
   "name": "python3"
  },
  "language_info": {
   "codemirror_mode": {
    "name": "ipython",
    "version": 3
   },
   "file_extension": ".py",
   "mimetype": "text/x-python",
   "name": "python",
   "nbconvert_exporter": "python",
   "pygments_lexer": "ipython3",
   "version": "3.7.11"
  },
  "orig_nbformat": 4
 },
 "nbformat": 4,
 "nbformat_minor": 2
}
