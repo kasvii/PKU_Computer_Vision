{
 "cells": [
  {
   "cell_type": "code",
   "execution_count": 10,
   "source": [
    "import cv2 as cv\r\n",
    "\r\n",
    "detector = cv.CascadeClassifier(\"haarcascade_frontalface_default.xml\")\r\n",
    "\r\n",
    "# 图像人脸检测\r\n",
    "def detectImage(img):\r\n",
    "    gray = cv.cvtColor(img, cv.COLOR_BGR2GRAY)\r\n",
    "    results = detector.detectMultiScale(gray, 1.5, 5)\r\n",
    "\r\n",
    "    FaceID = 0\r\n",
    "    for x, y, w, h in results:\r\n",
    "        flag = 1\r\n",
    "        # 删除检测到同一张人脸的框\r\n",
    "        for x_, y_, w_, h_ in results:\r\n",
    "            if x_==x and y_==y:\r\n",
    "                continue\r\n",
    "            if x > x_ and  y > y_ and x + w < x_ + w_ and y+ h < y_ + h_:\r\n",
    "                flag=0\r\n",
    "                break\r\n",
    "        if flag == 0:\r\n",
    "            continue\r\n",
    "        \r\n",
    "        FaceID += 1\r\n",
    "        cv.rectangle(img, (x, y), (x + w, y + h), (0, 0, 255), 2)\r\n",
    "        cv.putText(img, \"Person_\" + str(FaceID), (x - 10, y), cv.FONT_HERSHEY_DUPLEX, 0.8, (255, 0, 0), 1)\r\n",
    "    return img\r\n",
    "    \r\n",
    "# 视频人脸检测    \r\n",
    "def detectVideo():\r\n",
    "    Video = cv.VideoCapture('D:\\FirstTerm\\computer_vision\\homework\\\\3rd\\\\ad1080.mp4')\r\n",
    "    frame_width = int(Video.get(cv.CAP_PROP_FRAME_WIDTH))\r\n",
    "    frame_height = int(Video.get(cv.CAP_PROP_FRAME_HEIGHT))\r\n",
    "    print(frame_width, frame_height)\r\n",
    "    fps = 30\r\n",
    "    video_writer = cv.VideoWriter('Video.mp4', cv.VideoWriter_fourcc(*'mp4v'), fps, (frame_width, frame_height))\r\n",
    "\r\n",
    "    while True:\r\n",
    "        ret, frame = Video.read()\r\n",
    "        if not ret:\r\n",
    "            break\r\n",
    "        new_frame = detectImage(frame)\r\n",
    "        video_writer.write(new_frame)\r\n",
    "\r\n",
    "    video_writer.release()\r\n",
    "\r\n",
    "if __name__==\"__main__\":\r\n",
    "    detectVideo()"
   ],
   "outputs": [
    {
     "output_type": "stream",
     "name": "stdout",
     "text": [
      "1920 1080\n"
     ]
    }
   ],
   "metadata": {}
  }
 ],
 "metadata": {
  "orig_nbformat": 4,
  "language_info": {
   "name": "python",
   "version": "3.7.11",
   "mimetype": "text/x-python",
   "codemirror_mode": {
    "name": "ipython",
    "version": 3
   },
   "pygments_lexer": "ipython3",
   "nbconvert_exporter": "python",
   "file_extension": ".py"
  },
  "kernelspec": {
   "name": "python3",
   "display_name": "Python 3.7.11 64-bit ('test': conda)"
  },
  "interpreter": {
   "hash": "999dd3e2eabe8048c4faeff57ad9880f4590b8bc759d083b68e50e5335ac2244"
  }
 },
 "nbformat": 4,
 "nbformat_minor": 2
}