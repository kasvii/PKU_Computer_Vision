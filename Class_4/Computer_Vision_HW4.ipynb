{
 "cells": [
  {
   "cell_type": "code",
   "execution_count": 1,
   "metadata": {},
   "outputs": [
    {
     "data": {
      "text/plain": [
       "(tensor([[-1.1258, -1.1524, -0.2506, -0.4339],\n",
       "         [ 0.8487,  0.6920, -0.3160, -2.1152],\n",
       "         [ 0.3223, -1.2633,  0.3500,  0.3081],\n",
       "         [ 0.1198,  1.2377,  1.1168, -0.2473],\n",
       "         [-1.3527, -1.6959,  0.5667,  0.7935],\n",
       "         [ 0.5988, -1.5551, -0.3414,  1.8530],\n",
       "         [-0.2159, -0.7425,  0.5627,  0.2596],\n",
       "         [-0.1740, -0.6787,  0.9383,  0.4889],\n",
       "         [ 1.2032,  0.0845, -1.2001, -0.0048],\n",
       "         [-0.5181, -0.3067, -1.5810,  1.7066]], requires_grad=True),\n",
       " tensor([[ 0.2055, -0.4503, -0.5731, -0.5554],\n",
       "         [ 0.5943,  1.5419,  0.5073, -0.5910],\n",
       "         [-1.3253,  0.1886, -0.0691, -0.4949],\n",
       "         [-1.4959, -0.1938,  0.4455,  1.3253]], requires_grad=True),\n",
       " tensor([[ 1.5091,  2.0820,  1.7067,  2.3804],\n",
       "         [-1.1256, -0.3170, -1.0925, -0.0852],\n",
       "         [ 0.3276, -0.7607, -1.5991,  0.0185],\n",
       "         [-0.7504,  0.1854,  0.6211,  0.6382],\n",
       "         [-0.0033, -0.5344,  1.1687,  0.3945],\n",
       "         [ 1.9415,  0.7915, -0.0203, -0.4372],\n",
       "         [-0.2188, -2.4351, -0.0729, -0.0340],\n",
       "         [ 0.9625,  0.3492, -0.9215, -0.0562],\n",
       "         [-0.6227, -0.4637,  1.9218, -0.4025],\n",
       "         [ 0.1239,  1.1648,  0.9234,  1.3873]], requires_grad=True))"
      ]
     },
     "execution_count": 1,
     "metadata": {},
     "output_type": "execute_result"
    }
   ],
   "source": [
    "import torch\n",
    "torch.manual_seed(0)\n",
    "\n",
    "X = torch.randn(10, 4, requires_grad = True)\n",
    "W = torch.randn(4, 4, requires_grad = True)\n",
    "Y = torch.randn(10, 4, requires_grad = True)\n",
    "\n",
    "X, W, Y"
   ]
  },
  {
   "cell_type": "code",
   "execution_count": 2,
   "metadata": {},
   "outputs": [
    {
     "data": {
      "text/plain": [
       "tensor([[ 0.0649, -1.2330, -0.1154,  0.8553],\n",
       "        [ 4.1687,  1.0353, -1.0558, -3.5272],\n",
       "        [-1.6094, -2.0869, -0.7125,  0.8028],\n",
       "        [-0.3500,  2.1129,  0.3719, -1.6785],\n",
       "        [-3.2240, -2.0529,  0.2291,  2.5247],\n",
       "        [-3.1207, -3.0911, -0.2830,  3.2112],\n",
       "        [-1.6198, -0.9920, -0.1762,  0.6243],\n",
       "        [-2.4140, -0.8861, -0.0917,  0.6813],\n",
       "        [ 1.8953, -0.6369, -0.5659, -0.1305],\n",
       "        [-0.7464, -0.8685,  1.0108,  3.5132]], grad_fn=<MmBackward>)"
      ]
     },
     "execution_count": 2,
     "metadata": {},
     "output_type": "execute_result"
    }
   ],
   "source": [
    "Z = torch.mm(X, W)\n",
    "Z"
   ]
  },
  {
   "cell_type": "code",
   "execution_count": 3,
   "metadata": {},
   "outputs": [
    {
     "data": {
      "text/plain": [
       "tensor([[0.0649, 0.0000, 0.0000, 0.8553],\n",
       "        [4.1687, 1.0353, 0.0000, 0.0000],\n",
       "        [0.0000, 0.0000, 0.0000, 0.8028],\n",
       "        [0.0000, 2.1129, 0.3719, 0.0000],\n",
       "        [0.0000, 0.0000, 0.2291, 2.5247],\n",
       "        [0.0000, 0.0000, 0.0000, 3.2112],\n",
       "        [0.0000, 0.0000, 0.0000, 0.6243],\n",
       "        [0.0000, 0.0000, 0.0000, 0.6813],\n",
       "        [1.8953, 0.0000, 0.0000, 0.0000],\n",
       "        [0.0000, 0.0000, 1.0108, 3.5132]], grad_fn=<ClampBackward>)"
      ]
     },
     "execution_count": 3,
     "metadata": {},
     "output_type": "execute_result"
    }
   ],
   "source": [
    "H = torch.clamp(Z, 0)\n",
    "H"
   ]
  },
  {
   "cell_type": "code",
   "execution_count": 4,
   "metadata": {},
   "outputs": [
    {
     "data": {
      "text/plain": [
       "tensor(99.9048, grad_fn=<SumBackward0>)"
      ]
     },
     "execution_count": 4,
     "metadata": {},
     "output_type": "execute_result"
    }
   ],
   "source": [
    "f = (H - Y).pow(2).sum()\n",
    "f"
   ]
  },
  {
   "cell_type": "code",
   "execution_count": 5,
   "metadata": {},
   "outputs": [
    {
     "data": {
      "text/plain": [
       "(tensor([[ 18.2980,   2.7573,   2.3914,  -0.1974],\n",
       "         [ 11.0817,   6.6428,   2.5163, -20.3225],\n",
       "         [ -8.6662,   3.4506,  -1.8979,  -3.3608],\n",
       "         [-21.1681,  -6.6739,  -1.0693,  27.0278]]),\n",
       " tensor([[  1.1002,   0.0860,   5.3377,   0.2788],\n",
       "         [  0.9583,  10.4633, -13.5234, -16.3639],\n",
       "         [ -0.8712,  -0.9272,  -0.7764,   2.0790],\n",
       "         [ -1.4504,   5.6914,   0.7613,  -0.9693],\n",
       "         [ -1.2892,  -3.4714,  -1.9788,   4.8091],\n",
       "         [ -4.0523,  -4.3127,  -3.6114,   9.6703],\n",
       "         [ -0.7312,  -0.7782,  -0.6516,   1.7449],\n",
       "         [ -0.8191,  -0.8718,  -0.7300,   1.9547],\n",
       "         [  1.0350,   2.9930,  -6.6743,  -7.5333],\n",
       "         [ -2.4616,  -2.4243,  -2.1164,   5.7128]]),\n",
       " tensor([[ 2.8885e+00,  4.1639e+00,  3.4134e+00,  3.0501e+00],\n",
       "         [-1.0589e+01, -2.7045e+00, -2.1849e+00, -1.7039e-01],\n",
       "         [ 6.5523e-01, -1.5214e+00, -3.1982e+00, -1.5687e+00],\n",
       "         [-1.5009e+00, -3.8551e+00,  4.9843e-01,  1.2764e+00],\n",
       "         [-6.6077e-03, -1.0689e+00,  1.8791e+00, -4.2604e+00],\n",
       "         [ 3.8829e+00,  1.5830e+00, -4.0504e-02, -7.2968e+00],\n",
       "         [-4.3767e-01, -4.8701e+00, -1.4583e-01, -1.3166e+00],\n",
       "         [ 1.9250e+00,  6.9834e-01, -1.8429e+00, -1.4750e+00],\n",
       "         [-5.0359e+00, -9.2744e-01,  3.8436e+00, -8.0509e-01],\n",
       "         [ 2.4780e-01,  2.3296e+00, -1.7491e-01, -4.2519e+00]]))"
      ]
     },
     "execution_count": 5,
     "metadata": {},
     "output_type": "execute_result"
    }
   ],
   "source": [
    "f.backward()\n",
    "W.grad, X.grad, Y.grad"
   ]
  },
  {
   "cell_type": "code",
   "execution_count": 6,
   "metadata": {},
   "outputs": [
    {
     "data": {
      "text/plain": [
       "tensor([[ True, False, False,  True],\n",
       "        [ True,  True, False, False],\n",
       "        [False, False, False,  True],\n",
       "        [False,  True,  True, False],\n",
       "        [False, False,  True,  True],\n",
       "        [False, False, False,  True],\n",
       "        [False, False, False,  True],\n",
       "        [False, False, False,  True],\n",
       "        [ True, False, False, False],\n",
       "        [False, False,  True,  True]])"
      ]
     },
     "execution_count": 6,
     "metadata": {},
     "output_type": "execute_result"
    }
   ],
   "source": [
    "H_grad = Z > 0 \n",
    "H_grad"
   ]
  },
  {
   "cell_type": "code",
   "execution_count": 7,
   "metadata": {},
   "outputs": [
    {
     "data": {
      "text/plain": [
       "tensor([[True, True, True, True],\n",
       "        [True, True, True, True],\n",
       "        [True, True, True, True],\n",
       "        [True, True, True, True]])"
      ]
     },
     "execution_count": 7,
     "metadata": {},
     "output_type": "execute_result"
    }
   ],
   "source": [
    "W.grad == 2 * torch.mm(X.t(), (H - Y) * H_grad) "
   ]
  },
  {
   "cell_type": "code",
   "execution_count": 8,
   "metadata": {},
   "outputs": [
    {
     "data": {
      "text/plain": [
       "tensor([[True, True, True, True],\n",
       "        [True, True, True, True],\n",
       "        [True, True, True, True],\n",
       "        [True, True, True, True],\n",
       "        [True, True, True, True],\n",
       "        [True, True, True, True],\n",
       "        [True, True, True, True],\n",
       "        [True, True, True, True],\n",
       "        [True, True, True, True],\n",
       "        [True, True, True, True]])"
      ]
     },
     "execution_count": 8,
     "metadata": {},
     "output_type": "execute_result"
    }
   ],
   "source": [
    "X.grad == 2 * torch.mm((H - Y) * H_grad, W.t()) "
   ]
  },
  {
   "cell_type": "code",
   "execution_count": 9,
   "metadata": {},
   "outputs": [
    {
     "data": {
      "text/plain": [
       "tensor([[True, True, True, True],\n",
       "        [True, True, True, True],\n",
       "        [True, True, True, True],\n",
       "        [True, True, True, True],\n",
       "        [True, True, True, True],\n",
       "        [True, True, True, True],\n",
       "        [True, True, True, True],\n",
       "        [True, True, True, True],\n",
       "        [True, True, True, True],\n",
       "        [True, True, True, True]])"
      ]
     },
     "execution_count": 9,
     "metadata": {},
     "output_type": "execute_result"
    }
   ],
   "source": [
    "Y.grad == 2 * (Y - H)"
   ]
  }
 ],
 "metadata": {
  "interpreter": {
   "hash": "999dd3e2eabe8048c4faeff57ad9880f4590b8bc759d083b68e50e5335ac2244"
  },
  "kernelspec": {
   "display_name": "Python 3.7.11 64-bit ('test': conda)",
   "name": "python3"
  },
  "language_info": {
   "codemirror_mode": {
    "name": "ipython",
    "version": 3
   },
   "file_extension": ".py",
   "mimetype": "text/x-python",
   "name": "python",
   "nbconvert_exporter": "python",
   "pygments_lexer": "ipython3",
   "version": "3.7.11"
  },
  "orig_nbformat": 4
 },
 "nbformat": 4,
 "nbformat_minor": 2
}
