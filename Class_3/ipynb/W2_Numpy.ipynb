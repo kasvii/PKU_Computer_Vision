{
 "cells": [
  {
   "cell_type": "markdown",
   "source": [
    "# CS 231n Python & NumPy Tutorial"
   ],
   "metadata": {}
  },
  {
   "cell_type": "markdown",
   "source": [
    "Python 3 and NumPy will be used extensively throughout this course, so it's important to be familiar with them.  \n",
    "\n",
    "A good amount of the material in this notebook comes from Justin Johnson's Python & NumPy Tutorial:\n",
    "http://cs231n.github.io/python-numpy-tutorial/. At this moment, not everything from that tutorial is in this notebook and not everything from this notebook is in the tutorial."
   ],
   "metadata": {}
  },
  {
   "cell_type": "markdown",
   "source": [
    "## Python 3"
   ],
   "metadata": {}
  },
  {
   "cell_type": "markdown",
   "source": [
    "If you're unfamiliar with Python 3, here are some of the most common changes from Python 2 to look out for."
   ],
   "metadata": {}
  },
  {
   "cell_type": "markdown",
   "source": [
    "### Print is a function"
   ],
   "metadata": {}
  },
  {
   "cell_type": "code",
   "execution_count": 1,
   "source": [
    "print(\"Hello!\")"
   ],
   "outputs": [
    {
     "output_type": "stream",
     "name": "stdout",
     "text": [
      "Hello!\n"
     ]
    }
   ],
   "metadata": {}
  },
  {
   "cell_type": "markdown",
   "source": [
    "Without parentheses, printing will not work."
   ],
   "metadata": {}
  },
  {
   "cell_type": "code",
   "execution_count": 2,
   "source": [
    "print \"Hello!\""
   ],
   "outputs": [
    {
     "output_type": "error",
     "ename": "SyntaxError",
     "evalue": "Missing parentheses in call to 'print'. Did you mean print(\"Hello!\")? (Temp/ipykernel_28200/3700716981.py, line 1)",
     "traceback": [
      "\u001b[1;36m  File \u001b[1;32m\"C:\\Users\\youyx\\AppData\\Local\\Temp/ipykernel_28200/3700716981.py\"\u001b[1;36m, line \u001b[1;32m1\u001b[0m\n\u001b[1;33m    print \"Hello!\"\u001b[0m\n\u001b[1;37m                 ^\u001b[0m\n\u001b[1;31mSyntaxError\u001b[0m\u001b[1;31m:\u001b[0m Missing parentheses in call to 'print'. Did you mean print(\"Hello!\")?\n"
     ]
    }
   ],
   "metadata": {}
  },
  {
   "cell_type": "markdown",
   "source": [
    "### Floating point division by default"
   ],
   "metadata": {}
  },
  {
   "cell_type": "code",
   "execution_count": 3,
   "source": [
    "5 / 2"
   ],
   "outputs": [
    {
     "output_type": "execute_result",
     "data": {
      "text/plain": [
       "2.5"
      ]
     },
     "metadata": {},
     "execution_count": 3
    }
   ],
   "metadata": {}
  },
  {
   "cell_type": "markdown",
   "source": [
    "To do integer division, we use two backslashes:"
   ],
   "metadata": {}
  },
  {
   "cell_type": "code",
   "execution_count": 4,
   "source": [
    "5 // 2"
   ],
   "outputs": [
    {
     "output_type": "execute_result",
     "data": {
      "text/plain": [
       "2"
      ]
     },
     "metadata": {},
     "execution_count": 4
    }
   ],
   "metadata": {}
  },
  {
   "cell_type": "markdown",
   "source": [
    "### No xrange"
   ],
   "metadata": {}
  },
  {
   "cell_type": "markdown",
   "source": [
    "The xrange from Python 2 is now merged into \"range\" for Python 3 and there is no xrange in Python 3. In Python 3, range(3) does not create a list of 3 elements as it would in Python 2, rather just creates a more memory efficient iterator.\n",
    "\n",
    "Hence,  \n",
    "xrange in Python 3: Does not exist  \n",
    "range in Python 3: Has very similar behavior to Python 2's xrange"
   ],
   "metadata": {}
  },
  {
   "cell_type": "code",
   "execution_count": 5,
   "source": [
    "for i in range(3):\r\n",
    "    print(i)"
   ],
   "outputs": [
    {
     "output_type": "stream",
     "name": "stdout",
     "text": [
      "0\n",
      "1\n",
      "2\n"
     ]
    }
   ],
   "metadata": {}
  },
  {
   "cell_type": "code",
   "execution_count": 6,
   "source": [
    "for i in range(1, 5, 2):\r\n",
    "    print(i)"
   ],
   "outputs": [
    {
     "output_type": "stream",
     "name": "stdout",
     "text": [
      "1\n",
      "3\n"
     ]
    }
   ],
   "metadata": {}
  },
  {
   "cell_type": "code",
   "execution_count": 7,
   "source": [
    "list(range(3)) + list(range(3))"
   ],
   "outputs": [
    {
     "output_type": "execute_result",
     "data": {
      "text/plain": [
       "[0, 1, 2, 0, 1, 2]"
      ]
     },
     "metadata": {},
     "execution_count": 7
    }
   ],
   "metadata": {}
  },
  {
   "cell_type": "code",
   "execution_count": 8,
   "source": [
    "# If need be, can use the following to get a similar behavior to Python 2's range:\r\n",
    "print(list(range(3)))"
   ],
   "outputs": [
    {
     "output_type": "stream",
     "name": "stdout",
     "text": [
      "[0, 1, 2]\n"
     ]
    }
   ],
   "metadata": {}
  },
  {
   "cell_type": "markdown",
   "source": [
    "# NumPy"
   ],
   "metadata": {}
  },
  {
   "cell_type": "markdown",
   "source": [
    "\"NumPy is the fundamental package for scientific computing in Python. It is a Python library that provides a multidimensional array object, various derived objects (such as masked arrays and matrices), and an assortment of routines for fast operations on arrays, including mathematical, logical, shape manipulation, sorting, selecting, I/O, discrete Fourier transforms, basic linear algebra, basic statistical operations, random simulation and much more\"  \n",
    "-https://docs.scipy.org/doc/numpy-1.10.1/user/whatisnumpy.html."
   ],
   "metadata": {}
  },
  {
   "cell_type": "code",
   "execution_count": 9,
   "source": [
    "import numpy as np"
   ],
   "outputs": [],
   "metadata": {}
  },
  {
   "cell_type": "markdown",
   "source": [
    "Let's run through an example showing how powerful NumPy is. Suppose we have two lists a and b, consisting of the first 100,000 non-negative numbers, and we want to create a new list c whose *i*th element is a[i] + 2 * b[i].  \n",
    "\n",
    "Without NumPy:"
   ],
   "metadata": {}
  },
  {
   "cell_type": "code",
   "execution_count": 10,
   "source": [
    "%%time\r\n",
    "a = [i for i in range(100000)]\r\n",
    "b = [i for i in range(100000)]"
   ],
   "outputs": [
    {
     "output_type": "stream",
     "name": "stdout",
     "text": [
      "Wall time: 6.94 ms\n"
     ]
    }
   ],
   "metadata": {}
  },
  {
   "cell_type": "code",
   "execution_count": 11,
   "source": [
    "%%time\r\n",
    "c = []\r\n",
    "for i in range(len(a)):\r\n",
    "    c.append(a[i] + 2 * b[i])"
   ],
   "outputs": [
    {
     "output_type": "stream",
     "name": "stdout",
     "text": [
      "Wall time: 23.9 ms\n"
     ]
    }
   ],
   "metadata": {}
  },
  {
   "cell_type": "markdown",
   "source": [
    "With NumPy:"
   ],
   "metadata": {}
  },
  {
   "cell_type": "code",
   "execution_count": 12,
   "source": [
    "%%time\r\n",
    "a = np.arange(100000)\r\n",
    "b = np.arange(100000)"
   ],
   "outputs": [
    {
     "output_type": "stream",
     "name": "stdout",
     "text": [
      "Wall time: 17 ms\n"
     ]
    }
   ],
   "metadata": {}
  },
  {
   "cell_type": "code",
   "execution_count": 13,
   "source": [
    "%%time\r\n",
    "c = a + 2 * b"
   ],
   "outputs": [
    {
     "output_type": "stream",
     "name": "stdout",
     "text": [
      "Wall time: 32.9 ms\n"
     ]
    }
   ],
   "metadata": {}
  },
  {
   "cell_type": "markdown",
   "source": [
    "The result is 10 to 15 times faster, and we could do it in fewer lines of code (and the code itself is more intuitive)!"
   ],
   "metadata": {}
  },
  {
   "cell_type": "markdown",
   "source": [
    "Regular Python is much slower due to type checking and other overhead of needing to interpret code and support Python's abstractions.\n",
    "\n",
    "For example, if we are doing some addition in a loop, constantly type checking in a loop will lead to many more instructions than just performing a regular addition operation. NumPy, using optimized pre-compiled C code, is able to avoid a lot of the overhead introduced.\n",
    "\n",
    "The process we used above is **vectorization**. Vectorization refers to applying operations to arrays instead of just individual elements (i.e. no loops)."
   ],
   "metadata": {}
  },
  {
   "cell_type": "markdown",
   "source": [
    "Why vectorize?\n",
    "1. Much faster\n",
    "2. Easier to read and fewer lines of code\n",
    "3. More closely assembles mathematical notation\n",
    "\n",
    "Vectorization is one of the main reasons why NumPy is so powerful."
   ],
   "metadata": {}
  },
  {
   "cell_type": "markdown",
   "source": [
    "## ndarray"
   ],
   "metadata": {}
  },
  {
   "cell_type": "markdown",
   "source": [
    "ndarrays, n-dimensional arrays of homogenous data type, are the fundamental datatype used in NumPy. As these arrays are of the same type and are fixed size at creation, they offer less flexibility than Python lists, but can be substantially more efficient runtime and memory-wise. (Python lists are arrays of pointers to objects, adding a layer of indirection.)\n",
    "\n",
    "The number of dimensions is the rank of the array; the shape of an array is a tuple of integers giving the size of the array along each dimension."
   ],
   "metadata": {}
  },
  {
   "cell_type": "code",
   "execution_count": 14,
   "source": [
    "# Can initialize ndarrays with Python lists, for example:\r\n",
    "a = np.array([1, 2, 3])   # Create a rank 1 array\r\n",
    "print(type(a))            # Prints \"<class 'numpy.ndarray'>\"\r\n",
    "print(a.shape)            # Prints \"(3,)\"\r\n",
    "print(a[0], a[1], a[2])   # Prints \"1 2 3\"\r\n",
    "a[0] = 5                  # Change an element of the array\r\n",
    "print(a)                  # Prints \"[5, 2, 3]\"\r\n",
    "\r\n",
    "b = np.array([[1, 2, 3],\r\n",
    "              [4, 5, 6]])    # Create a rank 2 array\r\n",
    "print(b.shape)                     # Prints \"(2, 3)\"\r\n",
    "print(b[0, 0], b[0, 1], b[1, 0])   # Prints \"1 2 4\""
   ],
   "outputs": [
    {
     "output_type": "stream",
     "name": "stdout",
     "text": [
      "<class 'numpy.ndarray'>\n",
      "(3,)\n",
      "1 2 3\n",
      "[5 2 3]\n",
      "(2, 3)\n",
      "1 2 4\n"
     ]
    }
   ],
   "metadata": {}
  },
  {
   "cell_type": "code",
   "execution_count": 15,
   "source": [
    "print(type(b.shape))"
   ],
   "outputs": [
    {
     "output_type": "stream",
     "name": "stdout",
     "text": [
      "<class 'tuple'>\n"
     ]
    }
   ],
   "metadata": {}
  },
  {
   "cell_type": "markdown",
   "source": [
    "There are many other initializations that NumPy provides:"
   ],
   "metadata": {}
  },
  {
   "cell_type": "code",
   "execution_count": 16,
   "source": [
    "a = np.zeros((2, 2))   # Create an array of all zeros\r\n",
    "print(a)               # Prints \"[[ 0.  0.]\r\n",
    "                       #          [ 0.  0.]]\"\r\n",
    "\r\n",
    "b = np.full((2, 2), 7)  # Create a constant array\r\n",
    "print(b)                # Prints \"[[ 7.  7.]\r\n",
    "                        #          [ 7.  7.]]\"\r\n",
    "\r\n",
    "c = np.eye(2)         # Create a 2 x 2 identity matrix\r\n",
    "print(c)              # Prints \"[[ 1.  0.]\r\n",
    "                      #          [ 0.  1.]]\"\r\n",
    "\r\n",
    "d = np.random.random((2, 2))  # Create an array filled with random values\r\n",
    "print(d)                      # Might print \"[[ 0.91940167  0.08143941]\r\n",
    "                              #               [ 0.68744134  0.87236687]]\""
   ],
   "outputs": [
    {
     "output_type": "stream",
     "name": "stdout",
     "text": [
      "[[0. 0.]\n",
      " [0. 0.]]\n",
      "[[7 7]\n",
      " [7 7]]\n",
      "[[1. 0.]\n",
      " [0. 1.]]\n",
      "[[0.80750956 0.05594576]\n",
      " [0.41929985 0.94311824]]\n"
     ]
    }
   ],
   "metadata": {}
  },
  {
   "cell_type": "markdown",
   "source": [
    "How do we create a 2 by 2 matrix of ones?"
   ],
   "metadata": {}
  },
  {
   "cell_type": "code",
   "execution_count": 17,
   "source": [
    "a = np.ones((2, 2))    # Create an array of all ones\r\n",
    "print(a)               # Prints \"[[ 1.  1.]\r\n",
    "                       #          [ 1.  1.]]\""
   ],
   "outputs": [
    {
     "output_type": "stream",
     "name": "stdout",
     "text": [
      "[[1. 1.]\n",
      " [1. 1.]]\n"
     ]
    }
   ],
   "metadata": {}
  },
  {
   "cell_type": "markdown",
   "source": [
    "Useful to keep track of shape; helpful for debugging and knowing dimensions will be very useful when computing gradients, among other reasons."
   ],
   "metadata": {}
  },
  {
   "cell_type": "markdown",
   "source": [
    "NumPy supports an object-oriented paradigm, such that ndarray has a number of methods and attributes, with functions similar to ones in the outermost NumPy namespace. For example, we can do both:"
   ],
   "metadata": {}
  },
  {
   "cell_type": "code",
   "execution_count": 18,
   "source": [
    "nums = np.arange(8)\r\n",
    "print(nums.min())     # Prints 0\r\n",
    "print(np.min(nums))   # Prints 0"
   ],
   "outputs": [
    {
     "output_type": "stream",
     "name": "stdout",
     "text": [
      "0\n",
      "0\n"
     ]
    }
   ],
   "metadata": {}
  },
  {
   "cell_type": "markdown",
   "source": [
    "## Array Operations/Math"
   ],
   "metadata": {}
  },
  {
   "cell_type": "markdown",
   "source": [
    "NumPy supports many elementwise operations:"
   ],
   "metadata": {}
  },
  {
   "cell_type": "code",
   "execution_count": 19,
   "source": [
    "x = np.array([[1, 2],\r\n",
    "              [3, 4]], dtype=np.float64)\r\n",
    "y = np.array([[5, 6],\r\n",
    "              [7, 8]], dtype=np.float64)\r\n",
    "\r\n",
    "# Elementwise sum; both produce the array\r\n",
    "# [[ 6.0  8.0]\r\n",
    "#  [10.0 12.0]]\r\n",
    "print(x + y)\r\n",
    "print(np.add(x, y))\r\n",
    "\r\n",
    "# Elementwise difference; both produce the array\r\n",
    "# [[-4.0 -4.0]\r\n",
    "#  [-4.0 -4.0]]\r\n",
    "print(x - y)\r\n",
    "print(np.subtract(x, y))\r\n",
    "\r\n",
    "# Elementwise product; both produce the array\r\n",
    "# [[ 5.0 12.0]\r\n",
    "#  [21.0 32.0]]\r\n",
    "print(x * y)\r\n",
    "print(np.multiply(x, y))\r\n",
    "\r\n",
    "# Elementwise square root; produces the array\r\n",
    "# [[ 1.          1.41421356]\r\n",
    "#  [ 1.73205081  2.        ]]\r\n",
    "print(np.sqrt(x))"
   ],
   "outputs": [
    {
     "output_type": "stream",
     "name": "stdout",
     "text": [
      "[[ 6.  8.]\n",
      " [10. 12.]]\n",
      "[[ 6.  8.]\n",
      " [10. 12.]]\n",
      "[[-4. -4.]\n",
      " [-4. -4.]]\n",
      "[[-4. -4.]\n",
      " [-4. -4.]]\n",
      "[[ 5. 12.]\n",
      " [21. 32.]]\n",
      "[[ 5. 12.]\n",
      " [21. 32.]]\n",
      "[[1.         1.41421356]\n",
      " [1.73205081 2.        ]]\n"
     ]
    }
   ],
   "metadata": {}
  },
  {
   "cell_type": "markdown",
   "source": [
    "How do we elementwise divide between two arrays?"
   ],
   "metadata": {}
  },
  {
   "cell_type": "code",
   "execution_count": 20,
   "source": [
    "x = np.array([[1, 2], [3, 4]], dtype=np.float64)\r\n",
    "y = np.array([[5, 6], [7, 8]], dtype=np.float64)\r\n",
    "\r\n",
    "# Elementwise division; both produce the array\r\n",
    "# [[ 0.2         0.33333333]\r\n",
    "#  [ 0.42857143  0.5       ]]\r\n",
    "print(x / y)\r\n",
    "print(np.divide(x, y))"
   ],
   "outputs": [
    {
     "output_type": "stream",
     "name": "stdout",
     "text": [
      "[[0.2        0.33333333]\n",
      " [0.42857143 0.5       ]]\n",
      "[[0.2        0.33333333]\n",
      " [0.42857143 0.5       ]]\n"
     ]
    }
   ],
   "metadata": {}
  },
  {
   "cell_type": "markdown",
   "source": [
    "Note * is elementwise multiplication, not matrix multiplication. We instead use the dot function to compute inner products of vectors, to multiply a vector by a matrix, and to multiply matrices. dot is available both as a function in the numpy module and as an instance method of array objects:\n",
    "\n"
   ],
   "metadata": {}
  },
  {
   "cell_type": "code",
   "execution_count": 21,
   "source": [
    "x = np.array([[1, 2], [3, 4]])\r\n",
    "y = np.array([[5, 6], [7, 8]])\r\n",
    "\r\n",
    "v = np.array([9, 10])\r\n",
    "w = np.array([11, 12])\r\n",
    "\r\n",
    "# Inner product of vectors; both produce 219\r\n",
    "print(v.dot(w))\r\n",
    "print(np.dot(v, w))\r\n",
    "\r\n",
    "# Matrix / vector product; both produce the rank 1 array [29 67]\r\n",
    "print(x.dot(v))\r\n",
    "print(np.dot(x, v))\r\n",
    "\r\n",
    "# Matrix / matrix product; both produce the rank 2 array\r\n",
    "# [[19 22]\r\n",
    "#  [43 50]]\r\n",
    "print(x.dot(y))\r\n",
    "print(np.dot(x, y))"
   ],
   "outputs": [
    {
     "output_type": "stream",
     "name": "stdout",
     "text": [
      "219\n",
      "219\n",
      "[29 67]\n",
      "[29 67]\n",
      "[[19 22]\n",
      " [43 50]]\n",
      "[[19 22]\n",
      " [43 50]]\n"
     ]
    }
   ],
   "metadata": {}
  },
  {
   "cell_type": "markdown",
   "source": [
    "There are many useful functions built into NumPy, and often we're able to express them across specific axes of the ndarray:"
   ],
   "metadata": {}
  },
  {
   "cell_type": "code",
   "execution_count": 22,
   "source": [
    "vv = np.array([[9], [10]])\r\n",
    "print(vv.shape)\r\n",
    "print(x.dot(vv))\r\n"
   ],
   "outputs": [
    {
     "output_type": "stream",
     "name": "stdout",
     "text": [
      "(2, 1)\n",
      "[[29]\n",
      " [67]]\n"
     ]
    }
   ],
   "metadata": {}
  },
  {
   "cell_type": "code",
   "execution_count": 23,
   "source": [
    "x = np.array([[1, 2, 3], \r\n",
    "              [4, 5, 6]])\r\n",
    "\r\n",
    "print(np.sum(x))          # Compute sum of all elements; prints \"21\"\r\n",
    "print(np.sum(x, axis=0))  # Compute sum of each column; prints \"[5 7 9]\"\r\n",
    "print(np.sum(x, axis=1))  # Compute sum of each row; prints \"[6 15]\"\r\n",
    "\r\n",
    "print(np.max(x, axis=1))  # Compute max of each row; prints \"[3 6]\" "
   ],
   "outputs": [
    {
     "output_type": "stream",
     "name": "stdout",
     "text": [
      "21\n",
      "[5 7 9]\n",
      "[ 6 15]\n",
      "[3 6]\n"
     ]
    }
   ],
   "metadata": {}
  },
  {
   "cell_type": "markdown",
   "source": [
    "How can we compute the index of the max value of each row? Useful, to say, find the class that corresponds to the maximum score for an input image."
   ],
   "metadata": {}
  },
  {
   "cell_type": "code",
   "execution_count": 24,
   "source": [
    "x = np.array([[1, 2, 3], \r\n",
    "              [4, 6, 5]])\r\n",
    "\r\n",
    "print(np.argmax(x, axis=1)) # Compute index of max of each row; prints \"[2 2]\""
   ],
   "outputs": [
    {
     "output_type": "stream",
     "name": "stdout",
     "text": [
      "[2 1]\n"
     ]
    }
   ],
   "metadata": {}
  },
  {
   "cell_type": "markdown",
   "source": [
    "Note the axis you apply the operation will have its dimension removed from the shape.\n",
    "This is useful to keep in mind when you're trying to figure out what axis corresponds\n",
    "to what.\n",
    "\n",
    "For example:"
   ],
   "metadata": {}
  },
  {
   "cell_type": "code",
   "execution_count": 25,
   "source": [
    "x = np.array([[1, 2, 3], \r\n",
    "              [4, 5, 6]])\r\n",
    "\r\n",
    "print(x.shape)               # Has shape (2, 3)\r\n",
    "print((x.max(axis=0)).shape) # Taking the max over axis 0 has shape (3,)\r\n",
    "                             # corresponding to the 3 columns.\r\n",
    "\r\n",
    "# An array with rank 3\r\n",
    "x = np.array([[[1, 2, 3], \r\n",
    "               [4, 5, 6]],\r\n",
    "              [[10, 23, 33], \r\n",
    "               [43, 52, 16]]\r\n",
    "             ])\r\n",
    "\r\n",
    "print(x)\r\n",
    "print(x.shape)               # Has shape (2, 2, 3)\r\n",
    "print((x.max(axis=1)).shape) # Taking the max over axis 1 has shape (2, 3)\r\n",
    "\r\n",
    "print((x.max(axis=(1, 2))))       # Can take max over multiple axes; prints [6 52]\r\n",
    "print((x.max(axis=(1, 2))).shape) # Taking the max over axes 1, 2 has shape (2,)"
   ],
   "outputs": [
    {
     "output_type": "stream",
     "name": "stdout",
     "text": [
      "(2, 3)\n",
      "(3,)\n",
      "[[[ 1  2  3]\n",
      "  [ 4  5  6]]\n",
      "\n",
      " [[10 23 33]\n",
      "  [43 52 16]]]\n",
      "(2, 2, 3)\n",
      "(2, 3)\n",
      "[ 6 52]\n",
      "(2,)\n"
     ]
    }
   ],
   "metadata": {}
  },
  {
   "cell_type": "code",
   "execution_count": 26,
   "source": [
    "print(x.max(axis=2))"
   ],
   "outputs": [
    {
     "output_type": "stream",
     "name": "stdout",
     "text": [
      "[[ 3  6]\n",
      " [33 52]]\n"
     ]
    }
   ],
   "metadata": {}
  },
  {
   "cell_type": "markdown",
   "source": [
    "## Indexing"
   ],
   "metadata": {}
  },
  {
   "cell_type": "markdown",
   "source": [
    "NumPy also provides powerful indexing schemes."
   ],
   "metadata": {}
  },
  {
   "cell_type": "code",
   "execution_count": 27,
   "source": [
    "# Create the following rank 2 array with shape (3, 4)\r\n",
    "# [[ 1  2  3  4]\r\n",
    "#  [ 5  6  7  8]\r\n",
    "#  [ 9 10 11 12]]\r\n",
    "a = np.array([[1, 2, 3, 4],\r\n",
    "              [5, 6, 7, 8],\r\n",
    "              [9, 10, 11, 12]])\r\n",
    "print('Original:\\n', a)\r\n",
    "\r\n",
    "# Can select an element as you would in a 2 dimensional Python list\r\n",
    "print('Element (0, 0) (a[0][0]):\\n', a[0][0])   # Prints 1\r\n",
    "# or as follows\r\n",
    "print('Element (0, 0) (a[0, 0]) :\\n', a[0, 0])  # Prints 1\r\n",
    "\r\n",
    "# Use slicing to pull out the subarray consisting of the first 2 rows\r\n",
    "# and columns 1 and 2; b is the following array of shape (2, 2):\r\n",
    "# [[2 3]\r\n",
    "#  [6 7]]\r\n",
    "b = a[:2, 1:3]\r\n",
    "print('Sliced (a[:2, 1:3]):\\n', b)\r\n",
    "\r\n",
    "# Steps are also supported in indexing. The following reverses the first row:\r\n",
    "print('Reversing the first row (a[0, ::-1]) :\\n', a[0, ::-1]) # Prints [4 3 2 1]"
   ],
   "outputs": [
    {
     "output_type": "stream",
     "name": "stdout",
     "text": [
      "Original:\n",
      " [[ 1  2  3  4]\n",
      " [ 5  6  7  8]\n",
      " [ 9 10 11 12]]\n",
      "Element (0, 0) (a[0][0]):\n",
      " 1\n",
      "Element (0, 0) (a[0, 0]) :\n",
      " 1\n",
      "Sliced (a[:2, 1:3]):\n",
      " [[2 3]\n",
      " [6 7]]\n",
      "Reversing the first row (a[0, ::-1]) :\n",
      " [4 3 2 1]\n"
     ]
    }
   ],
   "metadata": {}
  },
  {
   "cell_type": "markdown",
   "source": [
    "Often, it's useful to select or modify one element from each row of a matrix. The following example employs **fancy indexing**, where we index into our array using an array of indices (say an array of integers or booleans):"
   ],
   "metadata": {}
  },
  {
   "cell_type": "code",
   "execution_count": 28,
   "source": [
    "# Create a new array from which we will select elements\r\n",
    "a = np.array([[1, 2, 3],\r\n",
    "              [4, 5, 6],\r\n",
    "              [7, 8, 9],\r\n",
    "              [10, 11, 12]])\r\n",
    "\r\n",
    "print(a)  # prints \"array([[ 1,  2,  3],\r\n",
    "          #                [ 4,  5,  6],\r\n",
    "          #                [ 7,  8,  9],\r\n",
    "          #                [10, 11, 12]])\"\r\n",
    "\r\n",
    "# Create an array of indices\r\n",
    "b = np.array([0, 2, 0, 1])\r\n",
    "\r\n",
    "# Select one element from each row of a using the indices in b\r\n",
    "print(a[np.arange(4), b])  # Prints \"[ 1  6  7 11]\"\r\n",
    "\r\n",
    "# Mutate one element from each row of a using the indices in b\r\n",
    "a[np.arange(4), b] += 10\r\n",
    "\r\n",
    "print(a)  # prints \"array([[11,  2,  3],\r\n",
    "          #                [ 4,  5, 16],\r\n",
    "          #                [17,  8,  9],\r\n",
    "          #                [10, 21, 12]])\r\n"
   ],
   "outputs": [
    {
     "output_type": "stream",
     "name": "stdout",
     "text": [
      "[[ 1  2  3]\n",
      " [ 4  5  6]\n",
      " [ 7  8  9]\n",
      " [10 11 12]]\n",
      "[ 1  6  7 11]\n",
      "[[11  2  3]\n",
      " [ 4  5 16]\n",
      " [17  8  9]\n",
      " [10 21 12]]\n"
     ]
    }
   ],
   "metadata": {}
  },
  {
   "cell_type": "code",
   "execution_count": 29,
   "source": [
    "c = [np.arange(4), b]\r\n",
    "print(c)"
   ],
   "outputs": [
    {
     "output_type": "stream",
     "name": "stdout",
     "text": [
      "[array([0, 1, 2, 3]), array([0, 2, 0, 1])]\n"
     ]
    }
   ],
   "metadata": {}
  },
  {
   "cell_type": "markdown",
   "source": [
    "We can also use boolean indexing/masks. Suppose we want to set all elements greater than MAX to MAX:"
   ],
   "metadata": {}
  },
  {
   "cell_type": "code",
   "execution_count": 30,
   "source": [
    "MAX = 5\r\n",
    "nums = np.array([1, 4, 10, -1, 15, 0, 5])\r\n",
    "print(nums > MAX)            # Prints [False, False, True, False, True, False, False]\r\n",
    "\r\n",
    "nums[nums > MAX] = MAX\r\n",
    "print(nums)                  # Prints [1, 4, 5, -1, 5, 0, 5]"
   ],
   "outputs": [
    {
     "output_type": "stream",
     "name": "stdout",
     "text": [
      "[False False  True False  True False False]\n",
      "[ 1  4  5 -1  5  0  5]\n"
     ]
    }
   ],
   "metadata": {}
  },
  {
   "cell_type": "code",
   "execution_count": 31,
   "source": [
    "MAX = 5\r\n",
    "nums = np.array([1, 4, 10, -1, 15, 0, 5])\r\n",
    "print(nums > MAX)  \r\n",
    "nums[nums > MAX]"
   ],
   "outputs": [
    {
     "output_type": "stream",
     "name": "stdout",
     "text": [
      "[False False  True False  True False False]\n"
     ]
    },
    {
     "output_type": "execute_result",
     "data": {
      "text/plain": [
       "array([10, 15])"
      ]
     },
     "metadata": {},
     "execution_count": 31
    }
   ],
   "metadata": {}
  },
  {
   "cell_type": "markdown",
   "source": [
    "Finally, note that the indices in fancy indexing can appear in any order and even multiple times:"
   ],
   "metadata": {}
  },
  {
   "cell_type": "code",
   "execution_count": 32,
   "source": [
    "nums = np.array([1, 4, 10, -1, 15, 0, 5])\r\n",
    "print(nums[[1, 2, 3, 1, 0]])  # Prints [4 10 -1 4 1]"
   ],
   "outputs": [
    {
     "output_type": "stream",
     "name": "stdout",
     "text": [
      "[ 4 10 -1  4  1]\n"
     ]
    }
   ],
   "metadata": {}
  },
  {
   "cell_type": "markdown",
   "source": [
    "## Broadcasting"
   ],
   "metadata": {}
  },
  {
   "cell_type": "code",
   "execution_count": 33,
   "source": [
    "nums = np.array([1, 4, 10, -1, 15, 0, 5])\r\n",
    "print(nums[[1, 2]])  # Prints [4 10 -1 4 1]"
   ],
   "outputs": [
    {
     "output_type": "stream",
     "name": "stdout",
     "text": [
      "[ 4 10]\n"
     ]
    }
   ],
   "metadata": {}
  },
  {
   "cell_type": "markdown",
   "source": [
    "Many of the operations we've looked at above involved arrays of the same rank.  \n",
    "However, many times we might have a smaller array and use that multiple times to update an array of a larger rank.  \n",
    "For example, consider the below example of shifting the mean of each column from the elements of the corresponding column:"
   ],
   "metadata": {}
  },
  {
   "cell_type": "code",
   "execution_count": 34,
   "source": [
    "x = np.array([[1, 2, 3],\r\n",
    "              [3, 5, 7]])\r\n",
    "print(x.shape)  # Prints (2, 3)\r\n",
    "\r\n",
    "col_means = x.mean(axis=0)\r\n",
    "print(col_means)          # Prints [2. 3.5 5.]\r\n",
    "print(col_means.shape)    # Prints (3,)\r\n",
    "                          # Has a smaller rank than x!\r\n",
    "\r\n",
    "mean_shifted = x - col_means\r\n",
    "print('\\n', mean_shifted)\r\n",
    "print(mean_shifted.shape)  # Prints (2, 3)"
   ],
   "outputs": [
    {
     "output_type": "stream",
     "name": "stdout",
     "text": [
      "(2, 3)\n",
      "[2.  3.5 5. ]\n",
      "(3,)\n",
      "\n",
      " [[-1.  -1.5 -2. ]\n",
      " [ 1.   1.5  2. ]]\n",
      "(2, 3)\n"
     ]
    }
   ],
   "metadata": {}
  },
  {
   "cell_type": "markdown",
   "source": [
    "Or even just multiplying a matrix by 2:"
   ],
   "metadata": {}
  },
  {
   "cell_type": "code",
   "execution_count": 35,
   "source": [
    "x = np.array([[1, 2, 3],\r\n",
    "              [3, 5, 7]])\r\n",
    "print(x * 2) # Prints [[ 2  4  6]\r\n",
    "             #         [ 6 10 14]]\r\n"
   ],
   "outputs": [
    {
     "output_type": "stream",
     "name": "stdout",
     "text": [
      "[[ 2  4  6]\n",
      " [ 6 10 14]]\n"
     ]
    }
   ],
   "metadata": {}
  },
  {
   "cell_type": "markdown",
   "source": [
    "Broadcasting two arrays together follows these rules:\n",
    "\n",
    "1. If the arrays do not have the same rank, prepend the shape of the lower rank array with 1s until both shapes have the same length.\n",
    "2. The two arrays are said to be compatible in a dimension if they have the same size in the dimension, or if one of the arrays has size 1 in that dimension.\n",
    "3. The arrays can be broadcast together if they are compatible in all dimensions.\n",
    "4. After broadcasting, each array behaves as if it had shape equal to the elementwise maximum of shapes of the two input arrays.\n",
    "5. In any dimension where one array had size 1 and the other array had size greater than 1, the first array behaves as if it were copied along that dimension."
   ],
   "metadata": {}
  },
  {
   "cell_type": "markdown",
   "source": [
    "For example, when subtracting the columns above, we had arrays of shape (2, 3) and (3,).\n",
    "\n",
    "1. These arrays do not have same rank, so we prepend the shape of the lower rank one to make it (1, 3).\n",
    "2. (2, 3) and (1, 3) are compatible (have the same size in the dimension, or if one of the arrays has size 1 in that dimension).\n",
    "3. Can be broadcast together!\n",
    "4. After broadcasting, each array behaves as if it had shape equal to (2, 3).\n",
    "5. The smaller array will behave as if it were copied along dimension 0."
   ],
   "metadata": {}
  },
  {
   "cell_type": "markdown",
   "source": [
    "Let's try to subtract the mean of each row!"
   ],
   "metadata": {}
  },
  {
   "cell_type": "code",
   "execution_count": 37,
   "source": [
    "x = np.array([[1, 2, 3],\r\n",
    "              [3, 5, 7]])\r\n",
    "\r\n",
    "row_means = x.mean(axis=1)\r\n",
    "print(row_means)  # Prints [2. 5.]\r\n",
    "\r\n",
    "mean_shifted = x - row_means"
   ],
   "outputs": [
    {
     "output_type": "stream",
     "name": "stdout",
     "text": [
      "[2. 5.]\n"
     ]
    },
    {
     "output_type": "error",
     "ename": "TypeError",
     "evalue": "'tuple' object is not callable",
     "traceback": [
      "\u001b[1;31m---------------------------------------------------------------------------\u001b[0m",
      "\u001b[1;31mTypeError\u001b[0m                                 Traceback (most recent call last)",
      "\u001b[1;32m~\\AppData\\Local\\Temp/ipykernel_28200/3672616288.py\u001b[0m in \u001b[0;36m<module>\u001b[1;34m\u001b[0m\n\u001b[0;32m      4\u001b[0m \u001b[0mrow_means\u001b[0m \u001b[1;33m=\u001b[0m \u001b[0mx\u001b[0m\u001b[1;33m.\u001b[0m\u001b[0mmean\u001b[0m\u001b[1;33m(\u001b[0m\u001b[0maxis\u001b[0m\u001b[1;33m=\u001b[0m\u001b[1;36m1\u001b[0m\u001b[1;33m)\u001b[0m\u001b[1;33m\u001b[0m\u001b[1;33m\u001b[0m\u001b[0m\n\u001b[0;32m      5\u001b[0m \u001b[0mprint\u001b[0m\u001b[1;33m(\u001b[0m\u001b[0mrow_means\u001b[0m\u001b[1;33m)\u001b[0m  \u001b[1;31m# Prints [2. 5.]\u001b[0m\u001b[1;33m\u001b[0m\u001b[1;33m\u001b[0m\u001b[0m\n\u001b[1;32m----> 6\u001b[1;33m \u001b[0mrow_means\u001b[0m\u001b[1;33m.\u001b[0m\u001b[0mshape\u001b[0m\u001b[1;33m(\u001b[0m\u001b[1;33m)\u001b[0m\u001b[1;33m\u001b[0m\u001b[1;33m\u001b[0m\u001b[0m\n\u001b[0m\u001b[0;32m      7\u001b[0m \u001b[0mmean_shifted\u001b[0m \u001b[1;33m=\u001b[0m \u001b[0mx\u001b[0m \u001b[1;33m-\u001b[0m \u001b[0mrow_means\u001b[0m\u001b[1;33m\u001b[0m\u001b[1;33m\u001b[0m\u001b[0m\n",
      "\u001b[1;31mTypeError\u001b[0m: 'tuple' object is not callable"
     ]
    }
   ],
   "metadata": {}
  },
  {
   "cell_type": "markdown",
   "source": [
    "To figure out what's wrong, we print some shapes:"
   ],
   "metadata": {}
  },
  {
   "cell_type": "code",
   "execution_count": 38,
   "source": [
    "x = np.array([[1, 2, 3],\r\n",
    "              [3, 5, 7]])\r\n",
    "print(x.shape)  # Prints (2, 3)\r\n",
    "\r\n",
    "row_means = x.mean(axis=1)\r\n",
    "print(row_means)        # Prints [2. 5.]\r\n",
    "print(row_means.shape)  # Prints (2,)\r\n",
    "\r\n",
    "# Results in the following error: ValueError: operands could not be broadcast together with shapes (2,3) (2,) \r\n",
    "mean_shifted = x - row_means"
   ],
   "outputs": [
    {
     "output_type": "stream",
     "name": "stdout",
     "text": [
      "(2, 3)\n",
      "[2. 5.]\n",
      "(2,)\n"
     ]
    },
    {
     "output_type": "error",
     "ename": "ValueError",
     "evalue": "operands could not be broadcast together with shapes (2,3) (2,) ",
     "traceback": [
      "\u001b[1;31m---------------------------------------------------------------------------\u001b[0m",
      "\u001b[1;31mValueError\u001b[0m                                Traceback (most recent call last)",
      "\u001b[1;32m~\\AppData\\Local\\Temp/ipykernel_28200/1751571366.py\u001b[0m in \u001b[0;36m<module>\u001b[1;34m\u001b[0m\n\u001b[0;32m      8\u001b[0m \u001b[1;33m\u001b[0m\u001b[0m\n\u001b[0;32m      9\u001b[0m \u001b[1;31m# Results in the following error: ValueError: operands could not be broadcast together with shapes (2,3) (2,)\u001b[0m\u001b[1;33m\u001b[0m\u001b[1;33m\u001b[0m\u001b[1;33m\u001b[0m\u001b[0m\n\u001b[1;32m---> 10\u001b[1;33m \u001b[0mmean_shifted\u001b[0m \u001b[1;33m=\u001b[0m \u001b[0mx\u001b[0m \u001b[1;33m-\u001b[0m \u001b[0mrow_means\u001b[0m\u001b[1;33m\u001b[0m\u001b[1;33m\u001b[0m\u001b[0m\n\u001b[0m",
      "\u001b[1;31mValueError\u001b[0m: operands could not be broadcast together with shapes (2,3) (2,) "
     ]
    }
   ],
   "metadata": {}
  },
  {
   "cell_type": "markdown",
   "source": [
    "What happened?"
   ],
   "metadata": {}
  },
  {
   "cell_type": "markdown",
   "source": [
    "Answer: If we following broadcasting rule 1, then we'd prepend a 1 to the smaller rank array ot get (1, 2). However, the last dimensions don't match now between (2, 3) and (1, 2), and so we can't broadcast."
   ],
   "metadata": {}
  },
  {
   "cell_type": "markdown",
   "source": [
    "Take 2, reshaping the row means to get the desired behavior:"
   ],
   "metadata": {}
  },
  {
   "cell_type": "code",
   "execution_count": 39,
   "source": [
    "x = np.array([[1, 2, 3],\r\n",
    "              [3, 5, 7]])\r\n",
    "print(x.shape)  # Prints (2, 3)\r\n",
    "\r\n",
    "row_means = x.mean(axis=1).reshape((-1, 1))\r\n",
    "print(row_means)        # Prints [[2.], [5.]]\r\n",
    "print(row_means.shape)  # Prints (2, 1)\r\n",
    "\r\n",
    "mean_shifted = x - row_means\r\n",
    "print(mean_shifted)\r\n",
    "print(mean_shifted.shape)  # Prints (2, 3)"
   ],
   "outputs": [
    {
     "output_type": "stream",
     "name": "stdout",
     "text": [
      "(2, 3)\n",
      "[[2.]\n",
      " [5.]]\n",
      "(2, 1)\n",
      "[[-1.  0.  1.]\n",
      " [-2.  0.  2.]]\n",
      "(2, 3)\n"
     ]
    }
   ],
   "metadata": {}
  },
  {
   "cell_type": "markdown",
   "source": [
    "More broadcasting examples!"
   ],
   "metadata": {}
  },
  {
   "cell_type": "code",
   "execution_count": 40,
   "source": [
    "# Compute outer product of vectors\r\n",
    "v = np.array([1, 2, 3])  # v has shape (3,)\r\n",
    "w = np.array([4, 5])    # w has shape (2,)\r\n",
    "# To compute an outer product, we first reshape v to be a column\r\n",
    "# vector of shape (3, 1); we can then broadcast it against w to yield\r\n",
    "# an output of shape (3, 2), which is the outer product of v and w:\r\n",
    "# [[ 4  5]\r\n",
    "#  [ 8 10]\r\n",
    "#  [12 15]]\r\n",
    "print(np.reshape(v, (3, 1)) * w)\r\n",
    "\r\n",
    "# Add a vector to each row of a matrix\r\n",
    "x = np.array([[1, 2, 3], [4, 5, 6]])\r\n",
    "# x has shape (2, 3) and v has shape (3,) so they broadcast to (2, 3),\r\n",
    "# giving the following matrix:\r\n",
    "# [[2 4 6]\r\n",
    "#  [5 7 9]]\r\n",
    "print(x + v)\r\n",
    "\r\n",
    "# Add a vector to each column of a matrix\r\n",
    "# x has shape (2, 3) and w has shape (2,).\r\n",
    "# If we transpose x then it has shape (3, 2) and can be broadcast\r\n",
    "# against w to yield a result of shape (3, 2); transposing this result\r\n",
    "# yields the final result of shape (2, 3) which is the matrix x with\r\n",
    "# the vector w added to each column. Gives the following matrix:\r\n",
    "# [[ 5  6  7]\r\n",
    "#  [ 9 10 11]]\r\n",
    "print((x.T + w).T)\r\n",
    "# Another solution is to reshape w to be a column vector of shape (2, 1);\r\n",
    "# we can then broadcast it directly against x to produce the same\r\n",
    "# output.\r\n",
    "print(x + np.reshape(w, (2, 1)))"
   ],
   "outputs": [
    {
     "output_type": "stream",
     "name": "stdout",
     "text": [
      "[[ 4  5]\n",
      " [ 8 10]\n",
      " [12 15]]\n",
      "[[2 4 6]\n",
      " [5 7 9]]\n",
      "[[ 5  6  7]\n",
      " [ 9 10 11]]\n",
      "[[ 5  6  7]\n",
      " [ 9 10 11]]\n"
     ]
    }
   ],
   "metadata": {}
  },
  {
   "cell_type": "markdown",
   "source": [
    "## Views vs. Copies"
   ],
   "metadata": {}
  },
  {
   "cell_type": "markdown",
   "source": [
    "Unlike a copy, in a **view** of an array, the data is shared between the view and the array. Sometimes, our results are copies of arrays, but other times they can be views. Understanding when each is generated is important to avoid any unforeseen issues.\n",
    "\n",
    "Views can be created from a slice of an array, changing the dtype of the same data area (using arr.view(dtype), not the result of arr.astype(dtype)), or even both."
   ],
   "metadata": {}
  },
  {
   "cell_type": "code",
   "execution_count": 41,
   "source": [
    "x = np.arange(5)\r\n",
    "print('Original:\\n', x)  # Prints [0 1 2 3 4]\r\n",
    "\r\n",
    "# Modifying the view will modify the array\r\n",
    "view = x[1:3]\r\n",
    "view[1] = -1\r\n",
    "print('Array After Modified View:\\n', x)  # Prints [0 1 -1 3 4]"
   ],
   "outputs": [
    {
     "output_type": "stream",
     "name": "stdout",
     "text": [
      "Original:\n",
      " [0 1 2 3 4]\n",
      "Array After Modified View:\n",
      " [ 0  1 -1  3  4]\n"
     ]
    }
   ],
   "metadata": {}
  },
  {
   "cell_type": "code",
   "execution_count": 42,
   "source": [
    "x = np.arange(5)\r\n",
    "view = x[1:3]\r\n",
    "view[1] = -1\r\n",
    "\r\n",
    "# Modifying the array will modify the view\r\n",
    "print('View Before Array Modification:\\n', view)  # Prints [1 -1]\r\n",
    "x[2] = 10\r\n",
    "print('Array After Modifications:\\n', x)          # Prints [0 1 10 3 4]\r\n",
    "print('View After Array Modification:\\n', view)   # Prints [1 10]"
   ],
   "outputs": [
    {
     "output_type": "stream",
     "name": "stdout",
     "text": [
      "View Before Array Modification:\n",
      " [ 1 -1]\n",
      "Array After Modifications:\n",
      " [ 0  1 10  3  4]\n",
      "View After Array Modification:\n",
      " [ 1 10]\n"
     ]
    }
   ],
   "metadata": {}
  },
  {
   "cell_type": "markdown",
   "source": [
    "However, if we use fancy indexing, the result will actually be a copy and not a view:"
   ],
   "metadata": {}
  },
  {
   "cell_type": "code",
   "execution_count": 43,
   "source": [
    "x = np.arange(5)\r\n",
    "print('Original:\\n', x)  # Prints [0 1 2 3 4]\r\n",
    "\r\n",
    "# Modifying the result of the selection due to fancy indexing\r\n",
    "# will not modify the original array.\r\n",
    "copy = x[[1, 2]]\r\n",
    "copy[1] = -1\r\n",
    "print('Copy:\\n', copy) # Prints [1 -1]\r\n",
    "print('Array After Modified Copy:\\n', x)  # Prints [0 1 2 3 4]"
   ],
   "outputs": [
    {
     "output_type": "stream",
     "name": "stdout",
     "text": [
      "Original:\n",
      " [0 1 2 3 4]\n",
      "Copy:\n",
      " [ 1 -1]\n",
      "Array After Modified Copy:\n",
      " [0 1 2 3 4]\n"
     ]
    }
   ],
   "metadata": {}
  },
  {
   "cell_type": "code",
   "execution_count": 44,
   "source": [
    "# Another example involving fancy indexing\r\n",
    "x = np.arange(5)\r\n",
    "print('Original:\\n', x)  # Prints [0 1 2 3 4]\r\n",
    "\r\n",
    "copy = x[x >= 2]\r\n",
    "print('Copy:\\n', copy) # Prints [2 3 4]\r\n",
    "x[3] = 10\r\n",
    "print('Modified Array:\\n', x)  # Prints [0 1 2 10 4]\r\n",
    "print('Copy After Modified Array:\\n', copy)  # Prints [2 3 4]"
   ],
   "outputs": [
    {
     "output_type": "stream",
     "name": "stdout",
     "text": [
      "Original:\n",
      " [0 1 2 3 4]\n",
      "Copy:\n",
      " [2 3 4]\n",
      "Modified Array:\n",
      " [ 0  1  2 10  4]\n",
      "Copy After Modified Array:\n",
      " [2 3 4]\n"
     ]
    }
   ],
   "metadata": {}
  },
  {
   "cell_type": "markdown",
   "source": [
    "## Summary\n",
    "\n",
    "1. NumPy is an incredibly powerful library for computation providing both massive efficiency gains and convenience.\n",
    "2. Vectorize! Orders of magnitude faster.\n",
    "3. Keeping track of the shape of your arrays is often useful.\n",
    "4. Many useful math functions and operations built into NumPy.\n",
    "5. Select and manipulate arbitrary pieces of data with powerful indexing schemes.\n",
    "6. Broadcasting allows for computation across arrays of different shapes.\n",
    "7. Watch out for views vs. copies."
   ],
   "metadata": {}
  }
 ],
 "metadata": {
  "kernelspec": {
   "name": "python3",
   "display_name": "Python 3.7.11 64-bit ('test': conda)"
  },
  "language_info": {
   "codemirror_mode": {
    "name": "ipython",
    "version": 3
   },
   "file_extension": ".py",
   "mimetype": "text/x-python",
   "name": "python",
   "nbconvert_exporter": "python",
   "pygments_lexer": "ipython3",
   "version": "3.7.11"
  },
  "interpreter": {
   "hash": "999dd3e2eabe8048c4faeff57ad9880f4590b8bc759d083b68e50e5335ac2244"
  }
 },
 "nbformat": 4,
 "nbformat_minor": 2
}