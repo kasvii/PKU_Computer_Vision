{
 "cells": [
  {
   "cell_type": "code",
   "execution_count": 12,
   "metadata": {},
   "outputs": [
    {
     "name": "stdout",
     "output_type": "stream",
     "text": [
      "torch.Size([60000, 28, 28])\n",
      "torch.Size([60000, 1, 28, 28])\n"
     ]
    },
    {
     "name": "stderr",
     "output_type": "stream",
     "text": [
      "F:\\anaconda3\\envs\\test\\lib\\site-packages\\torchvision\\datasets\\mnist.py:55: UserWarning: train_data has been renamed data\n",
      "  warnings.warn(\"train_data has been renamed data\")\n",
      "F:\\anaconda3\\envs\\test\\lib\\site-packages\\torchvision\\datasets\\mnist.py:45: UserWarning: train_labels has been renamed targets\n",
      "  warnings.warn(\"train_labels has been renamed targets\")\n",
      "F:\\anaconda3\\envs\\test\\lib\\site-packages\\torchvision\\datasets\\mnist.py:60: UserWarning: test_data has been renamed data\n",
      "  warnings.warn(\"test_data has been renamed data\")\n",
      "F:\\anaconda3\\envs\\test\\lib\\site-packages\\torchvision\\datasets\\mnist.py:50: UserWarning: test_labels has been renamed targets\n",
      "  warnings.warn(\"test_labels has been renamed targets\")\n"
     ]
    }
   ],
   "source": [
    "import torch\n",
    "import torch.nn as nn\n",
    "import torch.utils.data as Data\n",
    "import torchvision\n",
    "import torch.nn.functional as F\n",
    "import numpy as np\n",
    "from torchvision import transforms as tfs\n",
    "\n",
    "# torch.manual_seed(1)\n",
    "def train_tf(x):\n",
    "    im_aug = tfs.Compose([\n",
    "        tfs.Resize(120),\n",
    "        tfs.RandomRotation(30),\n",
    "        tfs.RandomAffine(degrees=0, translate=(3, 3), scale=None, shear=None, resample=False, fillcolor=0),\n",
    "        tfs.ToTensor(),\n",
    "        # tfs.Normalize([0.5, 0.5, 0.5], [0.5, 0.5, 0.5])\n",
    "    ])\n",
    "    x = im_aug(x)\n",
    "    return x\n",
    "\n",
    "\n",
    "DOWNLOAD_MNIST = True\n",
    "\n",
    "\n",
    "train_data = torchvision.datasets.MNIST(root='./mnist/', train=True, transform=train_tf,\n",
    "                                        download=DOWNLOAD_MNIST, )\n",
    "test_data = torchvision.datasets.MNIST(root='./mnist/', train=False)\n",
    "print(train_data.train_data.shape)\n",
    "\n",
    "train_x = torch.unsqueeze(train_data.train_data, dim=1).type(torch.FloatTensor) / 255.\n",
    "train_y = train_data.train_labels\n",
    "print(train_x.shape)\n",
    "\n",
    "test_x = torch.unsqueeze(test_data.test_data, dim=1).type(torch.FloatTensor)[:2000] / 255.  # Tensor on GPU\n",
    "test_y = test_data.test_labels[:2000]"
   ]
  },
  {
   "cell_type": "code",
   "execution_count": 13,
   "metadata": {},
   "outputs": [
    {
     "data": {
      "text/plain": [
       "torch.Size([2000, 1, 28, 28])"
      ]
     },
     "execution_count": 13,
     "metadata": {},
     "output_type": "execute_result"
    }
   ],
   "source": [
    "test_x.shape"
   ]
  },
  {
   "cell_type": "code",
   "execution_count": 14,
   "metadata": {},
   "outputs": [],
   "source": [
    "import matplotlib.pyplot as plt"
   ]
  },
  {
   "cell_type": "code",
   "execution_count": 15,
   "metadata": {},
   "outputs": [
    {
     "data": {
      "text/plain": [
       "<matplotlib.image.AxesImage at 0x257aaa8de48>"
      ]
     },
     "execution_count": 15,
     "metadata": {},
     "output_type": "execute_result"
    },
    {
     "data": {
      "image/png": "[encoded data removed]",
      "text/plain": [
       "<Figure size 432x288 with 1 Axes>"
      ]
     },
     "metadata": {
      "needs_background": "light"
     },
     "output_type": "display_data"
    }
   ],
   "source": [
    "plt.imshow(test_x[1,0,:,:].numpy(), 'gray')"
   ]
  },
  {
   "cell_type": "code",
   "execution_count": 16,
   "metadata": {},
   "outputs": [
    {
     "data": {
      "text/plain": [
       "tensor([7, 2, 1, 0, 4, 1, 4, 9, 5, 9])"
      ]
     },
     "execution_count": 16,
     "metadata": {},
     "output_type": "execute_result"
    }
   ],
   "source": [
    "test_y[:10]"
   ]
  },
  {
   "cell_type": "code",
   "execution_count": 17,
   "metadata": {},
   "outputs": [
    {
     "name": "stdout",
     "output_type": "stream",
     "text": [
      "Epoch:  0 | train loss: 2.8338 | test accuracy: 0.403\n",
      "Epoch:  0 | train loss: 0.6470 | test accuracy: 0.947\n",
      "Epoch:  0 | train loss: 0.5726 | test accuracy: 0.951\n",
      "Epoch:  0 | train loss: 0.3787 | test accuracy: 0.965\n",
      "Epoch:  0 | train loss: 0.3894 | test accuracy: 0.969\n",
      "Epoch:  0 | train loss: 0.4790 | test accuracy: 0.973\n",
      "Epoch:  0 | train loss: 0.4183 | test accuracy: 0.977\n",
      "Epoch:  0 | train loss: 0.1873 | test accuracy: 0.981\n",
      "Epoch:  0 | train loss: 0.2982 | test accuracy: 0.976\n",
      "Epoch:  0 | train loss: 0.1809 | test accuracy: 0.978\n",
      "Epoch:  0 | train loss: 0.2417 | test accuracy: 0.983\n",
      "Epoch:  0 | train loss: 0.3181 | test accuracy: 0.979\n",
      "Epoch:  0 | train loss: 0.2491 | test accuracy: 0.980\n",
      "Epoch:  1 | train loss: 0.3246 | test accuracy: 0.976\n",
      "Epoch:  1 | train loss: 0.2366 | test accuracy: 0.982\n",
      "Epoch:  1 | train loss: 0.1431 | test accuracy: 0.982\n",
      "Epoch:  1 | train loss: 0.1077 | test accuracy: 0.984\n",
      "Epoch:  1 | train loss: 0.2690 | test accuracy: 0.979\n",
      "Epoch:  1 | train loss: 0.0928 | test accuracy: 0.982\n",
      "Epoch:  1 | train loss: 0.3645 | test accuracy: 0.984\n",
      "Epoch:  1 | train loss: 0.3114 | test accuracy: 0.982\n",
      "Epoch:  1 | train loss: 0.1202 | test accuracy: 0.985\n",
      "Epoch:  1 | train loss: 0.1885 | test accuracy: 0.980\n",
      "Epoch:  1 | train loss: 0.1152 | test accuracy: 0.979\n",
      "Epoch:  1 | train loss: 0.2172 | test accuracy: 0.985\n",
      "Epoch:  1 | train loss: 0.0573 | test accuracy: 0.984\n",
      "Epoch:  2 | train loss: 0.1718 | test accuracy: 0.984\n",
      "Epoch:  2 | train loss: 0.1892 | test accuracy: 0.984\n",
      "Epoch:  2 | train loss: 0.0446 | test accuracy: 0.987\n",
      "Epoch:  2 | train loss: 0.0530 | test accuracy: 0.985\n",
      "Epoch:  2 | train loss: 0.1286 | test accuracy: 0.989\n",
      "Epoch:  2 | train loss: 0.1181 | test accuracy: 0.983\n",
      "Epoch:  2 | train loss: 0.0529 | test accuracy: 0.984\n",
      "Epoch:  2 | train loss: 0.0915 | test accuracy: 0.984\n",
      "Epoch:  2 | train loss: 0.2105 | test accuracy: 0.984\n",
      "Epoch:  2 | train loss: 0.0503 | test accuracy: 0.987\n",
      "Epoch:  2 | train loss: 0.0714 | test accuracy: 0.987\n",
      "Epoch:  2 | train loss: 0.0461 | test accuracy: 0.986\n",
      "Epoch:  2 | train loss: 0.0802 | test accuracy: 0.988\n",
      "tensor([7, 2, 1, 0, 4, 1, 4, 9, 6, 9]) prediction number\n",
      "tensor([7, 2, 1, 0, 4, 1, 4, 9, 5, 9]) real number\n"
     ]
    }
   ],
   "source": [
    "class NET(nn.Module):\n",
    "    def __init__(self):\n",
    "        super(NET, self).__init__()\n",
    "        self.conv1 = nn.Sequential(nn.Conv2d(in_channels=1, out_channels=16, kernel_size=5, stride=1, padding=2,), nn.ReLU(), \n",
    "                                   nn.MaxPool2d(2),)\n",
    "        self.dropout1 = nn.Dropout(0.3)\n",
    "        self.conv2 = nn.Sequential(nn.Conv2d(16, 32, 5, 1, 2), nn.ReLU(), nn.MaxPool2d(2),)\n",
    "        self.dropout2 = nn.Dropout(0.5)\n",
    "        self.conv3 = nn.Sequential(nn.Conv2d(32, 64, 4, 1, 2), nn.BatchNorm2d(64), nn.ReLU(), nn.MaxPool2d(2))\n",
    "        self.linear1 = nn.Linear(64 * 4 * 4, 10)\n",
    "        self.bn = nn.BatchNorm1d(10)\n",
    "\n",
    "    def forward(self, x):\n",
    "        x = self.conv1(x)\n",
    "        self.dropout1\n",
    "        x = self.conv2(x)\n",
    "        self.dropout2\n",
    "        x = self.conv3(x)\n",
    "        self.dropout2       \n",
    "        x = x.view(x.size(0), -1)\n",
    "        x = self.linear1(x)\n",
    "\n",
    "        output = self.bn(x)\n",
    "        return output\n",
    "\n",
    "\n",
    "data_size = 20000\n",
    "batch_size = 32\n",
    "EPOCH = 3\n",
    "LR = 0.002\n",
    "\n",
    "net = NET()\n",
    "# print(fc)\n",
    "\n",
    "optimizer = torch.optim.Adam(net.parameters(), lr=LR)\n",
    "loss_func = nn.CrossEntropyLoss()\n",
    "\n",
    "\n",
    "\n",
    "for epoch in range(EPOCH):\n",
    "    random_indx = np.random.permutation(data_size)\n",
    "    for batch_i in range(data_size // batch_size):\n",
    "        indx = random_indx[batch_i * batch_size:(batch_i + 1) * batch_size]\n",
    "\n",
    "        b_x = train_x[indx, :]\n",
    "        b_y = train_y[indx]\n",
    "        # print(b_x.shape)\n",
    "        # print(b_y.shape)\n",
    "\n",
    "        output = net(b_x)\n",
    "        loss = loss_func(output, b_y)\n",
    "\n",
    "        loss.backward()\n",
    "        optimizer.step()\n",
    "        optimizer.zero_grad()\n",
    "\n",
    "        if batch_i % 50 == 0:\n",
    "            test_output = net(test_x)\n",
    "            pred_y = torch.max(test_output, 1)[1].data.squeeze()\n",
    "            # pred_y = torch.max(test_output, 1)[1].data.squeeze()\n",
    "            accuracy = torch.sum(pred_y == test_y).type(torch.FloatTensor) / test_y.size(0)\n",
    "            print('Epoch: ', epoch, '| train loss: %.4f' % loss.data.cpu().numpy(), '| test accuracy: %.3f' % accuracy)\n",
    "\n",
    "test_output = net(test_x[:10])\n",
    "pred_y = torch.max(test_output, 1)[1].data.squeeze()  # move the computation in GPU\n",
    "\n",
    "print(pred_y, 'prediction number')\n",
    "print(test_y[:10], 'real number')"
   ]
  },
  {
   "cell_type": "code",
   "execution_count": 18,
   "metadata": {},
   "outputs": [
    {
     "name": "stdout",
     "output_type": "stream",
     "text": [
      "tensor([7, 2, 1, 0, 4, 1, 4, 9, 6, 9]) prediction number\n",
      "tensor([7]) real number\n"
     ]
    }
   ],
   "source": [
    "test_output = net(test_x[:10])\n",
    "pred_y = torch.max(test_output, 1)[1].data.squeeze()  # move the computation in GPU\n",
    "\n",
    "print(pred_y, 'prediction number')\n",
    "print(test_y[:1], 'real number')"
   ]
  },
  {
   "cell_type": "code",
   "execution_count": 19,
   "metadata": {},
   "outputs": [
    {
     "data": {
      "text/plain": [
       "tensor([[-0.5148, -1.6886, -0.2020,  2.1076, -1.2084,  2.0610, -1.1489,  6.6510,\n",
       "          0.1965, -0.6906],\n",
       "        [-0.5032, -0.8868,  6.1507,  0.8852, -1.9419, -3.9381,  1.0275, -1.4812,\n",
       "         -4.0723, -0.7199],\n",
       "        [-0.5760,  4.4933, -1.8307,  0.6050, -1.2303,  1.4094, -0.5799,  0.3083,\n",
       "          1.5547, -1.2865],\n",
       "        [ 6.7932, -1.3200, -1.3024,  0.1200,  0.1831,  1.2298, -0.8510, -1.1115,\n",
       "         -2.1393, -1.2418],\n",
       "        [-0.1823,  0.0461, -1.7431,  2.3956,  5.2047, -1.5921,  0.8286, -0.7187,\n",
       "          2.8944, -1.2650],\n",
       "        [-0.1189,  5.2089, -1.5124,  1.8688, -0.9024,  0.9153, -0.3378,  0.4611,\n",
       "          1.8777, -1.1348],\n",
       "        [-1.9824, -0.6294, -0.7575, -1.2792,  3.4165, -0.8167,  0.3172, -0.2270,\n",
       "          2.7097, -0.8266],\n",
       "        [-1.8534, -0.6427,  0.0829, -1.9258, -0.4612, -2.9060, -4.0948, -2.4369,\n",
       "         -2.2448,  3.9605],\n",
       "        [-0.7496, -2.2075,  0.0648, -5.6847, -1.9352,  2.7450,  5.5631, -0.7312,\n",
       "         -0.1654, -1.8974],\n",
       "        [-0.2254, -0.7478,  0.5269,  1.4670, -1.4613, -1.0903, -0.7152, -0.2032,\n",
       "         -1.1608,  5.2170]], grad_fn=<NativeBatchNormBackward>)"
      ]
     },
     "execution_count": 19,
     "metadata": {},
     "output_type": "execute_result"
    }
   ],
   "source": [
    "test_output"
   ]
  },
  {
   "cell_type": "code",
   "execution_count": 20,
   "metadata": {},
   "outputs": [
    {
     "data": {
      "text/plain": [
       "torch.Size([1, 1, 28, 28])"
      ]
     },
     "execution_count": 20,
     "metadata": {},
     "output_type": "execute_result"
    }
   ],
   "source": [
    "test_x[:1].shape"
   ]
  },
  {
   "cell_type": "code",
   "execution_count": 21,
   "metadata": {},
   "outputs": [
    {
     "data": {
      "text/plain": [
       "<matplotlib.image.AxesImage at 0x2578354c408>"
      ]
     },
     "execution_count": 21,
     "metadata": {},
     "output_type": "execute_result"
    },
    {
     "data": {
      "image/png": "[encoded data removed]",
      "text/plain": [
       "<Figure size 432x288 with 1 Axes>"
      ]
     },
     "metadata": {
      "needs_background": "light"
     },
     "output_type": "display_data"
    }
   ],
   "source": [
    "plt.imshow(test_x[:1].numpy().squeeze(), 'gray')"
   ]
  },
  {
   "cell_type": "code",
   "execution_count": null,
   "metadata": {},
   "outputs": [],
   "source": []
  },
  {
   "cell_type": "code",
   "execution_count": null,
   "metadata": {},
   "outputs": [],
   "source": []
  },
  {
   "cell_type": "code",
   "execution_count": null,
   "metadata": {},
   "outputs": [],
   "source": []
  },
  {
   "cell_type": "code",
   "execution_count": 22,
   "metadata": {},
   "outputs": [
    {
     "data": {
      "text/plain": [
       "(0, 1, 2, Ellipsis, 9)"
      ]
     },
     "execution_count": 22,
     "metadata": {},
     "output_type": "execute_result"
    }
   ],
   "source": [
    "import torch\n",
    "torch.eye(10)\n",
    "0, 1, 2, ..., 9 "
   ]
  },
  {
   "cell_type": "code",
   "execution_count": null,
   "metadata": {},
   "outputs": [],
   "source": []
  }
 ],
 "metadata": {
  "interpreter": {
   "hash": "999dd3e2eabe8048c4faeff57ad9880f4590b8bc759d083b68e50e5335ac2244"
  },
  "kernelspec": {
   "display_name": "Python 3.7.11 64-bit ('test': conda)",
   "name": "python3"
  },
  "language_info": {
   "codemirror_mode": {
    "name": "ipython",
    "version": 3
   },
   "file_extension": ".py",
   "mimetype": "text/x-python",
   "name": "python",
   "nbconvert_exporter": "python",
   "pygments_lexer": "ipython3",
   "version": "3.7.11"
  }
 },
 "nbformat": 4,
 "nbformat_minor": 4
}
